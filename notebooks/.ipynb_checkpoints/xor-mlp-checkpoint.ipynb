{
 "cells": [
  {
   "cell_type": "markdown",
   "id": "b3f427ad-52e1-43c5-89fe-a5c13c0ef023",
   "metadata": {},
   "source": [
    "# XOR Multi-Layer Perceptron"
   ]
  },
  {
   "cell_type": "markdown",
   "id": "32fd06d0-86a1-485e-8d2c-ab0986d17cf9",
   "metadata": {},
   "source": [
    "## Expalnation of the model"
   ]
  },
  {
   "cell_type": "markdown",
   "id": "29ca9f76-19a4-467a-a6b7-ab325c180eed",
   "metadata": {},
   "source": [
    "The purpose of the model is to get a more in-depth understanding of the mathematics behind a simple Multi-Layer Perceptron (MLP). I have used the non-linear sigmoid activation function:"
   ]
  },
  {
   "cell_type": "markdown",
   "id": "5fd9880b-25db-4e1f-8c5f-e2183edc83ba",
   "metadata": {},
   "source": [
    "$$\\sigma(x)=\\frac{1}{1+e^{-x}}$$"
   ]
  },
  {
   "cell_type": "code",
   "execution_count": 1,
   "id": "f874ff21-a0f6-4cf7-a7b4-ffa8e8d69352",
   "metadata": {},
   "outputs": [],
   "source": [
    "import numpy as np\n",
    "import matplotlib.pyplot as plt\n",
    "from tqdm import tqdm"
   ]
  },
  {
   "cell_type": "code",
   "execution_count": 2,
   "id": "5df264e0-4cfe-44d3-aaf9-fc1fadd38c78",
   "metadata": {},
   "outputs": [],
   "source": [
    "X = np.array([\n",
    "    [0, 0],\n",
    "    [0, 1],\n",
    "    [1, 0],\n",
    "    [1, 1]\n",
    "]).reshape(4, 2, 1)\n",
    "\n",
    "Y = np.array([\n",
    "    0,\n",
    "    1,\n",
    "    1,\n",
    "    0\n",
    "])"
   ]
  },
  {
   "cell_type": "code",
   "execution_count": 3,
   "id": "b5c6b6f6-0a73-415b-8edd-07be3870035e",
   "metadata": {},
   "outputs": [],
   "source": [
    "weights_l0 = np.random.rand(2, 2)\n",
    "bias_l1 = np.random.rand(2, 1)\n",
    "weights_l1 = np.random.rand(1, 2)\n",
    "bias_l2 = np.random.rand(1, 1)"
   ]
  },
  {
   "cell_type": "code",
   "execution_count": 4,
   "id": "d6c5bd77-8f45-4e95-89df-b47056ed1574",
   "metadata": {},
   "outputs": [],
   "source": [
    "def sigmoid(x):\n",
    "    return 1 / (1 + np.exp(-x))"
   ]
  },
  {
   "cell_type": "code",
   "execution_count": 5,
   "id": "be264c0f-ff69-4061-b7f0-6b6fb2cb4c2f",
   "metadata": {},
   "outputs": [],
   "source": [
    "def feed_forward(x):\n",
    "    z1 = np.dot(weights_l0, x) + bias_l1\n",
    "    a1 = sigmoid(z1)\n",
    "    \n",
    "    z2 = np.dot(weights_l1, a1) + bias_l2\n",
    "    y_hat = sigmoid(z2)\n",
    "\n",
    "    return a1, y_hat"
   ]
  },
  {
   "cell_type": "markdown",
   "id": "6375cdb2-edc5-4670-93bb-2e23afffed55",
   "metadata": {},
   "source": [
    "$L(\\hat{y},y)=\\frac{1}{2}(\\hat{y}-y)^2$, therefore $\\frac{\\partial L}{\\partial \\hat{y}}=\\hat{y}-y$, to simplify later backpropogation calculations.\n",
    "\n",
    "$\\sigma\\prime(x)=\\sigma(x)(1-\\sigma(x))$, for ease of calculation, $y=\\sigma(x)$, therefore $\\sigma\\prime(x)=y(1-y)$, as shown below"
   ]
  },
  {
   "cell_type": "code",
   "execution_count": 6,
   "id": "f618a684-0835-4f11-ae9f-4f0e72bbac11",
   "metadata": {},
   "outputs": [],
   "source": [
    "def L(y_hat, y):\n",
    "    return 0.5 * (y_hat - y) ** 2"
   ]
  },
  {
   "cell_type": "code",
   "execution_count": 7,
   "id": "3d61dd29-1738-4538-b2e8-49c390241014",
   "metadata": {},
   "outputs": [],
   "source": [
    "def sigmoid_derivative(y):\n",
    "    return y * ( 1 - y )"
   ]
  },
  {
   "cell_type": "markdown",
   "id": "2d79e143-702d-4d3f-b0eb-80a912fe4ff9",
   "metadata": {},
   "source": [
    "## Maths behind the backpropogation algorithms"
   ]
  },
  {
   "cell_type": "markdown",
   "id": "8212df11-1771-4fc4-ae5c-85812ee32492",
   "metadata": {},
   "source": [
    "If $\\hat{y}$ is the product of multiple functions within functions, the best way to derive each paramter is by using the chain rule, the whole chain rule, for $\\frac{\\partial L}{\\partial w^{(0)}}$ expanded is shown below:"
   ]
  },
  {
   "cell_type": "markdown",
   "id": "ef0e1ebf-8d57-4045-9303-7d2f72b9396d",
   "metadata": {},
   "source": [
    "$$\\frac{\\partial L}{\\partial W^{(0)}} = \\frac{\\partial L}{\\partial \\hat{y}} \\frac{\\partial \\hat{y}}{\\partial z^{(2)}} \\frac{\\partial z^{(2)}}{\\partial a^{(1)}} \\frac{\\partial a^{(1)}}{\\partial z^{(1)}} \\frac{\\partial z^{(1)}}{\\partial W^{(0)}}$$"
   ]
  },
  {
   "cell_type": "code",
   "execution_count": 8,
   "id": "ec3aaf66-79eb-4164-b57a-af7c3dd6eed7",
   "metadata": {},
   "outputs": [],
   "source": [
    "def backprop(y_hat, y, w1, a1, xi):\n",
    "    delta2 = (y_hat - y) * sigmoid_derivative(y_hat)\n",
    "    dL_dw1, dL_db2 = delta2 @ a1.T, delta2\n",
    "    delta1 = (w1.T @ delta2) * sigmoid_derivative(a1)\n",
    "    dL_dw0, dL_db1 = delta1 @ xi.T, delta1\n",
    "    return dL_dw0, dL_db1, dL_dw1, dL_db2"
   ]
  },
  {
   "cell_type": "code",
   "execution_count": 9,
   "id": "c12a7869-1124-4260-b6f7-d2b7b94f0547",
   "metadata": {},
   "outputs": [],
   "source": [
    "learning_rate = 1\n",
    "epochs = 100000\n",
    "losses = []"
   ]
  },
  {
   "cell_type": "code",
   "execution_count": 10,
   "id": "04ed4207-859e-4dee-a671-25f173533474",
   "metadata": {
    "scrolled": true
   },
   "outputs": [
    {
     "name": "stderr",
     "output_type": "stream",
     "text": [
      "100%|████████████████████████████████| 100000/100000 [00:08<00:00, 11543.86it/s]\n"
     ]
    }
   ],
   "source": [
    "for i in tqdm(range(epochs)):\n",
    "    loss = 0\n",
    "    for i, x in enumerate(X):\n",
    "        a1, y_hat = feed_forward(x)\n",
    "\n",
    "        loss += L(y_hat, Y[i])\n",
    "\n",
    "        dL_dw0, dL_db1, dL_dw1, dL_db2 = backprop(y_hat, Y[i], weights_l1, a1, x)\n",
    "        weights_l0 -= learning_rate * dL_dw0\n",
    "        weights_l1 -= learning_rate * dL_dw1\n",
    "        bias_l1 -= learning_rate * dL_db1\n",
    "        bias_l2 -= learning_rate * dL_db2\n",
    "\n",
    "    losses.append(loss / 4)"
   ]
  },
  {
   "cell_type": "code",
   "execution_count": 11,
   "id": "10268cde-3f94-4e77-8386-54e7541e4f60",
   "metadata": {},
   "outputs": [
    {
     "data": {
      "text/plain": [
       "[<matplotlib.lines.Line2D at 0x10b1ff470>]"
      ]
     },
     "execution_count": 11,
     "metadata": {},
     "output_type": "execute_result"
    },
    {
     "data": {
      "image/png": "[encoded data removed]",
      "text/plain": [
       "<Figure size 640x480 with 1 Axes>"
      ]
     },
     "metadata": {},
     "output_type": "display_data"
    }
   ],
   "source": [
    "xn = [i for i in range(epochs)]\n",
    "plt.plot(xn, np.array(losses).reshape(epochs))"
   ]
  },
  {
   "cell_type": "code",
   "execution_count": 12,
   "id": "86544726-ef78-45e5-a45a-db860eb35879",
   "metadata": {},
   "outputs": [],
   "source": [
    "def classifier(prediction):\n",
    "    if prediction >= 0.5: return 1\n",
    "    else: return 0"
   ]
  },
  {
   "cell_type": "code",
   "execution_count": 13,
   "id": "f580ac44-a9ed-4f69-8b80-f6f381a13615",
   "metadata": {},
   "outputs": [
    {
     "name": "stdout",
     "output_type": "stream",
     "text": [
      "Input A: 0, Input B: 0, Prediction: 0.005050878601482639\n",
      "Input A: 0, Input B: 1, Prediction: 0.9956663684873255\n",
      "Input A: 1, Input B: 0, Prediction: 0.9956631319218271\n",
      "Input A: 1, Input B: 1, Prediction: 0.005173107790126022\n"
     ]
    }
   ],
   "source": [
    "for i in range(4):\n",
    "    _, p = feed_forward(X[i]) \n",
    "    print(f'Input A: {X[i][0][0]}, Input B: {X[i][1][0]}, Prediction: {p[0][0]}')"
   ]
  },
  {
   "cell_type": "code",
   "execution_count": 14,
   "id": "fa929d34-1a7d-4c24-b9dc-7fa8173a27a7",
   "metadata": {},
   "outputs": [],
   "source": [
    "example_num = 10000\n",
    "point_A = np.random.rand(example_num).tolist()\n",
    "point_B = np.random.rand(example_num).tolist()\n",
    "coords = np.array(list(zip(point_A, point_B)))"
   ]
  },
  {
   "cell_type": "code",
   "execution_count": 15,
   "id": "ba82e1ad-851d-458d-8809-370fa26b6d2c",
   "metadata": {},
   "outputs": [],
   "source": [
    "pres = [0 for i in range(example_num)]\n",
    "for i in range(example_num):\n",
    "    _, p = feed_forward(coords[i].T.reshape(2, 1))\n",
    "    pres[i] = classifier(p)"
   ]
  },
  {
   "cell_type": "code",
   "execution_count": 16,
   "id": "434fd208-637c-4f1b-96cb-ba83706fe0b1",
   "metadata": {},
   "outputs": [],
   "source": [
    "colors = ['red' if y == 0 else 'blue' for y in pres]"
   ]
  },
  {
   "cell_type": "code",
   "execution_count": 17,
   "id": "a51499e9-65af-4474-9869-b311219c5984",
   "metadata": {},
   "outputs": [
    {
     "data": {
      "text/plain": [
       "<matplotlib.collections.PathCollection at 0x11a2dc5c0>"
      ]
     },
     "execution_count": 17,
     "metadata": {},
     "output_type": "execute_result"
    },
    {
     "data": {
      "image/png": "[encoded data removed]",
      "text/plain": [
       "<Figure size 640x480 with 1 Axes>"
      ]
     },
     "metadata": {},
     "output_type": "display_data"
    }
   ],
   "source": [
    "plt.scatter(point_A, point_B, color=colors)"
   ]
  },
  {
   "cell_type": "code",
   "execution_count": null,
   "id": "ddce5f3c-730a-4f93-9eb1-0f3ee63aa672",
   "metadata": {},
   "outputs": [],
   "source": []
  },
  {
   "cell_type": "code",
   "execution_count": null,
   "id": "45026732-f087-4ecd-8123-14778edd014a",
   "metadata": {},
   "outputs": [],
   "source": []
  },
  {
   "cell_type": "code",
   "execution_count": null,
   "id": "2ae5f7b2-d279-4ef4-860d-048ba5bf3748",
   "metadata": {},
   "outputs": [],
   "source": []
  },
  {
   "cell_type": "code",
   "execution_count": null,
   "id": "1c87202c-2183-4990-99a5-c5d2dafa55b6",
   "metadata": {},
   "outputs": [],
   "source": []
  },
  {
   "cell_type": "code",
   "execution_count": null,
   "id": "fb78249a-89b2-4b0a-a493-28ded350101a",
   "metadata": {},
   "outputs": [],
   "source": []
  }
 ],
 "metadata": {
  "kernelspec": {
   "display_name": "Python [conda env:base] *",
   "language": "python",
   "name": "conda-base-py"
  },
  "language_info": {
   "codemirror_mode": {
    "name": "ipython",
    "version": 3
   },
   "file_extension": ".py",
   "mimetype": "text/x-python",
   "name": "python",
   "nbconvert_exporter": "python",
   "pygments_lexer": "ipython3",
   "version": "3.12.7"
  }
 },
 "nbformat": 4,
 "nbformat_minor": 5
}
